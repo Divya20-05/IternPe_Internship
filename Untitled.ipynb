{
  "nbformat": 4,
  "nbformat_minor": 0,
  "metadata": {
    "colab": {
      "provenance": []
    },
    "kernelspec": {
      "name": "python3",
      "display_name": "Python 3"
    },
    "language_info": {
      "name": "python"
    }
  },
  "cells": [
    {
      "cell_type": "code",
      "execution_count": 1,
      "metadata": {
        "colab": {
          "base_uri": "https://localhost:8080/"
        },
        "id": "upVLtPL9CSni",
        "outputId": "7dcfbd8a-aacc-46c5-f4cb-ff007fd0b8df"
      },
      "outputs": [
        {
          "output_type": "stream",
          "name": "stdout",
          "text": [
            "Writing rps_game.cpp\n"
          ]
        }
      ],
      "source": [
        "%%writefile rps_game.cpp\n",
        "#include <iostream>\n",
        "#include <cstdlib>\n",
        "#include <ctime>\n",
        "\n",
        "enum Choice { ROCK, PAPER, SCISSORS };\n",
        "\n",
        "Choice getComputerChoice() {\n",
        "    return static_cast<Choice>(rand() % 3);\n",
        "}\n",
        "\n",
        "Choice getUserChoice() {\n",
        "    int choice;\n",
        "    std::cout << \"Enter your choice (0 = Rock, 1 = Paper, 2 = Scissors): \";\n",
        "    std::cin >> choice;\n",
        "    return static_cast<Choice>(choice);\n",
        "}\n",
        "\n",
        "void displayChoice(Choice choice) {\n",
        "    switch (choice) {\n",
        "        case ROCK:\n",
        "            std::cout << \"Rock\";\n",
        "            break;\n",
        "        case PAPER:\n",
        "            std::cout << \"Paper\";\n",
        "            break;\n",
        "        case SCISSORS:\n",
        "            std::cout << \"Scissors\";\n",
        "            break;\n",
        "    }\n",
        "}\n",
        "\n",
        "void determineWinner(Choice userChoice, Choice computerChoice) {\n",
        "    if (userChoice == computerChoice) {\n",
        "        std::cout << \"It's a tie!\";\n",
        "    } else if ((userChoice == ROCK && computerChoice == SCISSORS) ||\n",
        "               (userChoice == PAPER && computerChoice == ROCK) ||\n",
        "               (userChoice == SCISSORS && computerChoice == PAPER)) {\n",
        "        std::cout << \"You win!\";\n",
        "    } else {\n",
        "        std::cout << \"You lose!\";\n",
        "    }\n",
        "}\n",
        "\n",
        "int main() {\n",
        "    srand(static_cast<unsigned int>(time(0)));\n",
        "\n",
        "    Choice userChoice = getUserChoice();\n",
        "    Choice computerChoice = getComputerChoice();\n",
        "\n",
        "    std::cout << \"You chose: \";\n",
        "    displayChoice(userChoice);\n",
        "    std::cout << \"\\nComputer chose: \";\n",
        "    displayChoice(computerChoice);\n",
        "    std::cout << \"\\n\";\n",
        "\n",
        "    determineWinner(userChoice, computerChoice);\n",
        "\n",
        "    return 0;\n",
        "}\n"
      ]
    },
    {
      "cell_type": "code",
      "source": [
        "!g++ rps_game.cpp -o rps_game"
      ],
      "metadata": {
        "id": "I-oEC-15CpYB"
      },
      "execution_count": 2,
      "outputs": []
    },
    {
      "cell_type": "code",
      "source": [
        "!./rps_game"
      ],
      "metadata": {
        "colab": {
          "base_uri": "https://localhost:8080/"
        },
        "id": "3uOEG9_uCtgB",
        "outputId": "6a94c4a9-f493-45b5-e4d4-8a885a88371c"
      },
      "execution_count": 3,
      "outputs": [
        {
          "output_type": "stream",
          "name": "stdout",
          "text": [
            "Enter your choice (0 = Rock, 1 = Paper, 2 = Scissors): 0\n",
            "You chose: Rock\n",
            "Computer chose: Rock\n",
            "It's a tie!"
          ]
        }
      ]
    }
  ]
}