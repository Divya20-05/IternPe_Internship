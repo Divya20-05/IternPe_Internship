{
  "nbformat": 4,
  "nbformat_minor": 0,
  "metadata": {
    "colab": {
      "provenance": []
    },
    "kernelspec": {
      "name": "python3",
      "display_name": "Python 3"
    },
    "language_info": {
      "name": "python"
    }
  },
  "cells": [
    {
      "cell_type": "code",
      "source": [
        "%%writefile program.cpp\n",
        "#include <iostream>\n",
        "#include <cstdlib>   // For rand() and srand()\n",
        "#include <ctime>     // For time()\n",
        "\n",
        "using namespace std;\n",
        "\n",
        "int main() {\n",
        "    // Generate random number between 1 and 100\n",
        "    srand(static_cast<unsigned int>(time(0)));  // Seed for random number generator\n",
        "    int secretNumber = rand() % 100 + 1;        // Random number between 1 and 100\n",
        "\n",
        "    int guess;\n",
        "    int tries = 0;\n",
        "    bool guessedCorrectly = false;\n",
        "\n",
        "    cout << \"Welcome to the Number Guessing Game!\" << endl;\n",
        "    cout << \"I have selected a number between 1 and 100.\" << endl;\n",
        "\n",
        "    while (!guessedCorrectly) {\n",
        "        cout << \"Enter your guess: \";\n",
        "        cin >> guess;\n",
        "        tries++;\n",
        "\n",
        "        if (guess == secretNumber) {\n",
        "            cout << \"Congratulations! You guessed the correct number in \" << tries << \" tries.\" << endl;\n",
        "            guessedCorrectly = true;\n",
        "        } else if (guess < secretNumber) {\n",
        "            cout << \"Too low! Try again.\" << endl;\n",
        "        } else {\n",
        "            cout << \"Too high! Try again.\" << endl;\n",
        "        }\n",
        "    }\n",
        "\n",
        "    return 0;\n",
        "}"
      ],
      "metadata": {
        "colab": {
          "base_uri": "https://localhost:8080/"
        },
        "id": "wxmjMHBXWkrS",
        "outputId": "f97955bd-8f2e-46b0-e62d-1b90d10e6bb3"
      },
      "execution_count": null,
      "outputs": [
        {
          "output_type": "stream",
          "name": "stdout",
          "text": [
            "Writing program.cpp\n"
          ]
        }
      ]
    },
    {
      "cell_type": "code",
      "source": [
        "!g++ -o program program.cpp\n"
      ],
      "metadata": {
        "id": "DsqwufGtZ4tK"
      },
      "execution_count": null,
      "outputs": []
    },
    {
      "cell_type": "code",
      "source": [
        "!./program"
      ],
      "metadata": {
        "colab": {
          "base_uri": "https://localhost:8080/"
        },
        "id": "rH_adbCBZ7vw",
        "outputId": "e735c2e2-2d9a-488c-d840-a6015592f7a8"
      },
      "execution_count": null,
      "outputs": [
        {
          "output_type": "stream",
          "name": "stdout",
          "text": [
            "Welcome to the Number Guessing Game!\n",
            "I have selected a number between 1 and 100.\n",
            "Enter your guess: 50\n",
            "Too low! Try again.\n",
            "Enter your guess: 60\n",
            "Too low! Try again.\n",
            "Enter your guess: 70\n",
            "Too high! Try again.\n",
            "Enter your guess: 65\n",
            "Too low! Try again.\n",
            "Enter your guess: 68\n",
            "Too high! Try again.\n",
            "Enter your guess: 66\n",
            "Too low! Try again.\n",
            "Enter your guess: 67\n",
            "Congratulations! You guessed the correct number in 7 tries.\n"
          ]
        }
      ]
    }
  ]
}